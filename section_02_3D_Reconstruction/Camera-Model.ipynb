{
 "cells": [
  {
   "cell_type": "code",
   "execution_count": 1,
   "id": "8d142d36",
   "metadata": {},
   "outputs": [],
   "source": [
    "import numpy as np\n",
    "import matplotlib.pyplot as plt"
   ]
  },
  {
   "cell_type": "code",
   "execution_count": 2,
   "id": "f7a79b18",
   "metadata": {},
   "outputs": [],
   "source": [
    "H = 400\n",
    "W = 400\n",
    "f = 1200"
   ]
  },
  {
   "cell_type": "code",
   "execution_count": 3,
   "id": "68e469e3",
   "metadata": {},
   "outputs": [],
   "source": [
    "rays_o = np.zeros((H*W, 3))\n",
    "rays_d = np.zeros((H*W, 3))\n",
    "\n",
    "u = np.arange(W)\n",
    "v = np.arange(H)\n",
    "u, v = np.meshgrid(u, v)\n",
    "\n",
    "dirs = np.stack((u - W / 2,\n",
    "                 -(v - H / 2),\n",
    "                 - np.ones_like(u) * f), axis=-1)\n",
    "rays_d = dirs / np.linalg.norm(dirs, axis=-1, keepdims=True)\n",
    "rays_d = rays_d.reshape(-1, 3)"
   ]
  }
 ],
 "metadata": {
  "kernelspec": {
   "display_name": "Python 3 (ipykernel)",
   "language": "python",
   "name": "python3"
  },
  "language_info": {
   "codemirror_mode": {
    "name": "ipython",
    "version": 3
   },
   "file_extension": ".py",
   "mimetype": "text/x-python",
   "name": "python",
   "nbconvert_exporter": "python",
   "pygments_lexer": "ipython3",
   "version": "3.9.13"
  }
 },
 "nbformat": 4,
 "nbformat_minor": 5
}
