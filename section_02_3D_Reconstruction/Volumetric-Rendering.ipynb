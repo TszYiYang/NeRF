{
 "cells": [
  {
   "cell_type": "code",
   "execution_count": 1,
   "id": "8d142d36",
   "metadata": {},
   "outputs": [],
   "source": [
    "import numpy as np\n",
    "import matplotlib.pyplot as plt\n",
    "import torch"
   ]
  },
  {
   "cell_type": "code",
   "execution_count": null,
   "id": "b8789293",
   "metadata": {},
   "outputs": [],
   "source": [
    "torch.zeros((160000, 100, 3))"
   ]
  },
  {
   "cell_type": "code",
   "execution_count": null,
   "id": "f7a79b18",
   "metadata": {},
   "outputs": [],
   "source": [
    "H = 400\n",
    "W = 400\n",
    "f = 1200"
   ]
  },
  {
   "cell_type": "code",
   "execution_count": null,
   "id": "68e469e3",
   "metadata": {},
   "outputs": [],
   "source": [
    "rays_o = np.zeros((H*W, 3))\n",
    "rays_d = np.zeros((H*W, 3))\n",
    "\n",
    "u = np.arange(W)\n",
    "v = np.arange(H)\n",
    "u, v = np.meshgrid(u, v)\n",
    "\n",
    "dirs = np.stack((u - W / 2,\n",
    "                 -(v - H / 2),\n",
    "                 - np.ones_like(u) * f), axis=-1)\n",
    "rays_d = dirs / np.linalg.norm(dirs, axis=-1, keepdims=True)\n",
    "rays_d = rays_d.reshape(-1, 3)"
   ]
  },
  {
   "cell_type": "code",
   "execution_count": null,
   "id": "62010c42",
   "metadata": {},
   "outputs": [],
   "source": [
    "def plot_rays(o, d, t):\n",
    "    \n",
    "    fig = plt.figure(figsize=(12, 12))\n",
    "    ax = fig.gca(projection='3d')\n",
    "    \n",
    "    pt1 = o\n",
    "    pt2 = o + t * d\n",
    "    \n",
    "    for p1, p2 in zip(pt1[::100], pt2[::100]):\n",
    "        plt.plot([p1[0], p2[0]], [p1[1], p2[1]], [p1[2], p2[2]])\n",
    "    \n",
    "    \n",
    "    plt.show()"
   ]
  },
  {
   "cell_type": "code",
   "execution_count": null,
   "id": "a8089d24",
   "metadata": {},
   "outputs": [],
   "source": [
    "class Sphere():\n",
    "    \n",
    "    def __init__(self, p, r, c):\n",
    "        self.p = p\n",
    "        self.r = r\n",
    "        self.c = c\n",
    "        \n",
    "    def intersect(self, x):\n",
    "        \n",
    "        # (x- xc)^2 + (y-yc)^2 + (z-zc)^2 <= r^2 \n",
    "        cond = (x[:, 0] - self.p[0])**2 + (x[:, 1] - self.p[1])**2 + (x[:, 2] - self.p[2])**2 <= self.r**2\n",
    "                \n",
    "        num_rays = o.shape[0]\n",
    "        colors = np.zeros((num_rays, 3))\n",
    "        density = np.zeros((num_rays, 1))\n",
    "        \n",
    "        colors[cond] = self.c\n",
    "        density[cond] = 10\n",
    "        \n",
    "        return colors"
   ]
  },
  {
   "cell_type": "code",
   "execution_count": null,
   "id": "866423a9",
   "metadata": {},
   "outputs": [],
   "source": [
    "s = Sphere(np.array([0., 0., -1.]), .1, np.array([1., 0., 0.]))"
   ]
  }
 ],
 "metadata": {
  "kernelspec": {
   "display_name": "Python 3 (ipykernel)",
   "language": "python",
   "name": "python3"
  },
  "language_info": {
   "codemirror_mode": {
    "name": "ipython",
    "version": 3
   },
   "file_extension": ".py",
   "mimetype": "text/x-python",
   "name": "python",
   "nbconvert_exporter": "python",
   "pygments_lexer": "ipython3",
   "version": "3.9.13"
  }
 },
 "nbformat": 4,
 "nbformat_minor": 5
}
